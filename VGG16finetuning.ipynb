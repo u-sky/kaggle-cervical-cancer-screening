{
 "cells": [
  {
   "cell_type": "markdown",
   "metadata": {},
   "source": [
    "\n",
    "\n"
   ]
  },
  {
   "cell_type": "code",
   "execution_count": 1,
   "metadata": {
    "collapsed": false
   },
   "outputs": [
    {
     "name": "stderr",
     "output_type": "stream",
     "text": [
      "Using TensorFlow backend.\n"
     ]
    }
   ],
   "source": [
    "import matplotlib.pyplot as plt\n",
    "%matplotlib inline\n",
    "import numpy as np\n",
    "import pandas as pd\n",
    "import cv2\n",
    "import math\n",
    "from sklearn import mixture\n",
    "from sklearn.utils import shuffle\n",
    "from skimage import measure\n",
    "from glob import glob\n",
    "import os\n",
    "from multiprocessing import Pool, cpu_count\n",
    "from functools import partial\n",
    "from subprocess import check_output\n",
    "from PIL import ImageFilter, ImageStat, Image, ImageDraw\n",
    "from sklearn.preprocessing import LabelEncoder\n",
    "from keras.wrappers.scikit_learn import KerasClassifier\n",
    "from keras.models import Sequential\n",
    "from keras.layers.core import Dense, Dropout, Flatten, Activation\n",
    "from keras.layers.convolutional import Convolution2D, ZeroPadding2D, MaxPooling2D\n",
    "from keras import optimizers\n",
    "from keras.layers import Input\n",
    "from keras.preprocessing.image import ImageDataGenerator\n",
    "from sklearn.model_selection import train_test_split\n",
    "from keras import backend as K\n",
    "from keras.applications.vgg16 import VGG16, preprocess_input, decode_predictions\n",
    "from keras.models import Model\n",
    "K.set_image_dim_ordering('tf')\n",
    "K.set_floatx('float32')\n",
    "\n",
    "import pandas as pd\n",
    "import numpy as np\n",
    "np.random.seed(17)\n",
    "\n",
    "train_data = np.load('train_crop_224.npy')\n",
    "train_target = np.load('train_crop_target_224.npy')\n",
    "test_data = np.load('test_stg2_crop_224.npy')\n",
    "test_id = np.load('test_stg2_crop_id_224.npy')"
   ]
  },
  {
   "cell_type": "code",
   "execution_count": 2,
   "metadata": {
    "collapsed": false
   },
   "outputs": [
    {
     "data": {
      "text/plain": [
       "array([[[[ 0.01568628,  0.01176471,  0.01568628, ...,  0.00392157,\n",
       "           0.00392157,  0.        ],\n",
       "         [ 0.01176471,  0.01176471,  0.01176471, ...,  0.00392157,\n",
       "           0.00392157,  0.00392157],\n",
       "         [ 0.01176471,  0.01176471,  0.01176471, ...,  0.00392157,\n",
       "           0.00392157,  0.00392157],\n",
       "         ..., \n",
       "         [ 0.        ,  0.00392157,  0.00392157, ...,  0.00784314,\n",
       "           0.00784314,  0.00784314],\n",
       "         [ 0.00392157,  0.00392157,  0.00392157, ...,  0.00784314,\n",
       "           0.00784314,  0.00392157],\n",
       "         [ 0.00392157,  0.        ,  0.        , ...,  0.00392157,\n",
       "           0.00392157,  0.00392157]],\n",
       "\n",
       "        [[ 0.01568628,  0.01176471,  0.01568628, ...,  0.00392157,\n",
       "           0.00392157,  0.        ],\n",
       "         [ 0.01176471,  0.01176471,  0.01176471, ...,  0.00392157,\n",
       "           0.00392157,  0.00392157],\n",
       "         [ 0.01176471,  0.01176471,  0.01176471, ...,  0.00392157,\n",
       "           0.00392157,  0.00392157],\n",
       "         ..., \n",
       "         [ 0.        ,  0.00392157,  0.00392157, ...,  0.00784314,\n",
       "           0.00784314,  0.00784314],\n",
       "         [ 0.00392157,  0.00392157,  0.00392157, ...,  0.00784314,\n",
       "           0.00784314,  0.00392157],\n",
       "         [ 0.00392157,  0.        ,  0.        , ...,  0.00392157,\n",
       "           0.00392157,  0.00392157]],\n",
       "\n",
       "        [[ 0.01568628,  0.01176471,  0.01568628, ...,  0.00392157,\n",
       "           0.00392157,  0.        ],\n",
       "         [ 0.01176471,  0.01176471,  0.01176471, ...,  0.00392157,\n",
       "           0.00392157,  0.00392157],\n",
       "         [ 0.01176471,  0.01176471,  0.01176471, ...,  0.00392157,\n",
       "           0.00392157,  0.00392157],\n",
       "         ..., \n",
       "         [ 0.        ,  0.00392157,  0.00392157, ...,  0.00784314,\n",
       "           0.00784314,  0.00784314],\n",
       "         [ 0.00392157,  0.00392157,  0.00392157, ...,  0.00784314,\n",
       "           0.00784314,  0.00392157],\n",
       "         [ 0.00392157,  0.        ,  0.        , ...,  0.00392157,\n",
       "           0.00392157,  0.00392157]]],\n",
       "\n",
       "\n",
       "       [[[ 0.1254902 ,  0.10588235,  0.10196079, ...,  0.01568628,\n",
       "           0.03921569,  0.04705882],\n",
       "         [ 0.09019608,  0.09803922,  0.09803922, ...,  0.03137255,\n",
       "           0.03921569,  0.05098039],\n",
       "         [ 0.09411765,  0.10196079,  0.09411765, ...,  0.02745098,\n",
       "           0.03137255,  0.02745098],\n",
       "         ..., \n",
       "         [ 0.03137255,  0.01960784,  0.03137255, ...,  0.39607844,\n",
       "           0.37254903,  0.30980393],\n",
       "         [ 0.03137255,  0.02352941,  0.03921569, ...,  0.34901962,\n",
       "           0.33725491,  0.30980393],\n",
       "         [ 0.01568628,  0.01960784,  0.01568628, ...,  0.30980393,\n",
       "           0.29019609,  0.28235295]],\n",
       "\n",
       "        [[ 0.13333334,  0.13725491,  0.1254902 , ...,  0.03137255,\n",
       "           0.04705882,  0.05490196],\n",
       "         [ 0.11764706,  0.10980392,  0.11372549, ...,  0.03137255,\n",
       "           0.03921569,  0.05098039],\n",
       "         [ 0.1254902 ,  0.11372549,  0.11372549, ...,  0.03529412,\n",
       "           0.03137255,  0.03921569],\n",
       "         ..., \n",
       "         [ 0.04313726,  0.03921569,  0.04313726, ...,  0.31764707,\n",
       "           0.29411766,  0.24705882],\n",
       "         [ 0.03137255,  0.03137255,  0.04313726, ...,  0.27450982,\n",
       "           0.26274511,  0.24705882],\n",
       "         [ 0.02352941,  0.02745098,  0.02352941, ...,  0.25098041,\n",
       "           0.23529412,  0.21568628]],\n",
       "\n",
       "        [[ 0.18039216,  0.17254902,  0.15686275, ...,  0.02745098,\n",
       "           0.03921569,  0.04705882],\n",
       "         [ 0.15294118,  0.14901961,  0.15294118, ...,  0.03137255,\n",
       "           0.03921569,  0.05098039],\n",
       "         [ 0.14509805,  0.15294118,  0.14509805, ...,  0.02745098,\n",
       "           0.03137255,  0.03529412],\n",
       "         ..., \n",
       "         [ 0.03529412,  0.03137255,  0.03921569, ...,  0.38431373,\n",
       "           0.33725491,  0.27450982],\n",
       "         [ 0.03137255,  0.03137255,  0.04313726, ...,  0.35686275,\n",
       "           0.34117648,  0.29411766],\n",
       "         [ 0.02352941,  0.02745098,  0.02352941, ...,  0.32549021,\n",
       "           0.29411766,  0.28627452]]],\n",
       "\n",
       "\n",
       "       [[[ 0.03529412,  0.03529412,  0.03137255, ...,  0.01568628,\n",
       "           0.01960784,  0.02352941],\n",
       "         [ 0.03137255,  0.03529412,  0.03529412, ...,  0.02352941,\n",
       "           0.02352941,  0.01960784],\n",
       "         [ 0.03529412,  0.03529412,  0.03529412, ...,  0.02745098,\n",
       "           0.02352941,  0.01960784],\n",
       "         ..., \n",
       "         [ 0.02745098,  0.02745098,  0.02352941, ...,  0.01960784,\n",
       "           0.01568628,  0.01568628],\n",
       "         [ 0.02745098,  0.02352941,  0.02352941, ...,  0.01568628,\n",
       "           0.01568628,  0.01568628],\n",
       "         [ 0.02745098,  0.02352941,  0.02352941, ...,  0.01568628,\n",
       "           0.01568628,  0.01568628]],\n",
       "\n",
       "        [[ 0.01568628,  0.01568628,  0.01568628, ...,  0.00392157,\n",
       "           0.00784314,  0.01176471],\n",
       "         [ 0.01176471,  0.01568628,  0.01568628, ...,  0.01176471,\n",
       "           0.01176471,  0.00784314],\n",
       "         [ 0.01568628,  0.01568628,  0.01960784, ...,  0.01568628,\n",
       "           0.01176471,  0.00784314],\n",
       "         ..., \n",
       "         [ 0.01960784,  0.01568628,  0.01176471, ...,  0.01176471,\n",
       "           0.00784314,  0.00784314],\n",
       "         [ 0.01568628,  0.01568628,  0.01176471, ...,  0.00784314,\n",
       "           0.00784314,  0.00392157],\n",
       "         [ 0.01568628,  0.01176471,  0.01176471, ...,  0.00392157,\n",
       "           0.00392157,  0.00392157]],\n",
       "\n",
       "        [[ 0.01960784,  0.01960784,  0.01960784, ...,  0.01176471,\n",
       "           0.01568628,  0.01960784],\n",
       "         [ 0.01568628,  0.01960784,  0.01960784, ...,  0.01960784,\n",
       "           0.01960784,  0.01568628],\n",
       "         [ 0.01960784,  0.01960784,  0.01960784, ...,  0.02352941,\n",
       "           0.01960784,  0.01568628],\n",
       "         ..., \n",
       "         [ 0.02745098,  0.02352941,  0.01960784, ...,  0.01176471,\n",
       "           0.01176471,  0.00784314],\n",
       "         [ 0.02352941,  0.02352941,  0.01960784, ...,  0.01176471,\n",
       "           0.01176471,  0.00784314],\n",
       "         [ 0.02352941,  0.01960784,  0.01960784, ...,  0.01176471,\n",
       "           0.01176471,  0.01176471]]],\n",
       "\n",
       "\n",
       "       ..., \n",
       "       [[[ 0.4509804 ,  0.48235294,  0.45490196, ...,  0.23137255,\n",
       "           0.22745098,  0.27058825],\n",
       "         [ 0.4627451 ,  0.47843137,  0.52941179, ...,  0.25882354,\n",
       "           0.28235295,  0.29803923],\n",
       "         [ 0.50980395,  0.52156866,  0.59215689, ...,  0.32549021,\n",
       "           0.32549021,  0.28627452],\n",
       "         ..., \n",
       "         [ 0.15294118,  0.11372549,  0.11372549, ...,  0.12941177,\n",
       "           0.1254902 ,  0.11372549],\n",
       "         [ 0.10196079,  0.09019608,  0.06666667, ...,  0.07843138,\n",
       "           0.07843138,  0.09019608],\n",
       "         [ 0.06666667,  0.07450981,  0.08627451, ...,  0.07450981,\n",
       "           0.10196079,  0.13333334]],\n",
       "\n",
       "        [[ 0.38039216,  0.41176471,  0.38431373, ...,  0.23137255,\n",
       "           0.22745098,  0.27058825],\n",
       "         [ 0.39215687,  0.40000001,  0.4509804 , ...,  0.26274511,\n",
       "           0.28235295,  0.29803923],\n",
       "         [ 0.42745098,  0.43529412,  0.50196081, ...,  0.32156864,\n",
       "           0.32156864,  0.28627452],\n",
       "         ..., \n",
       "         [ 0.1882353 ,  0.14509805,  0.13725491, ...,  0.19607843,\n",
       "           0.20392157,  0.19215687],\n",
       "         [ 0.13725491,  0.12156863,  0.09411765, ...,  0.14901961,\n",
       "           0.14901961,  0.16078432],\n",
       "         [ 0.09019608,  0.10196079,  0.10980392, ...,  0.13725491,\n",
       "           0.15686275,  0.18431373]],\n",
       "\n",
       "        [[ 0.43529412,  0.4627451 ,  0.43921569, ...,  0.29803923,\n",
       "           0.29019609,  0.33333334],\n",
       "         [ 0.44313726,  0.45490196,  0.49803922, ...,  0.33725491,\n",
       "           0.34901962,  0.36862746],\n",
       "         [ 0.49019608,  0.49411765,  0.5529412 , ...,  0.39607844,\n",
       "           0.39215687,  0.34901962],\n",
       "         ..., \n",
       "         [ 0.26274511,  0.21960784,  0.21176471, ...,  0.32156864,\n",
       "           0.32941177,  0.31764707],\n",
       "         [ 0.21176471,  0.19607843,  0.16470589, ...,  0.26666668,\n",
       "           0.26666668,  0.27843139],\n",
       "         [ 0.16862746,  0.18039216,  0.19215687, ...,  0.25098041,\n",
       "           0.27450982,  0.29803923]]],\n",
       "\n",
       "\n",
       "       [[[ 0.01176471,  0.01176471,  0.01568628, ...,  0.02352941,\n",
       "           0.02352941,  0.01960784],\n",
       "         [ 0.01176471,  0.01176471,  0.01568628, ...,  0.02745098,\n",
       "           0.02352941,  0.01568628],\n",
       "         [ 0.01176471,  0.01176471,  0.01568628, ...,  0.02745098,\n",
       "           0.02352941,  0.01568628],\n",
       "         ..., \n",
       "         [ 0.01176471,  0.01176471,  0.01176471, ...,  0.01960784,\n",
       "           0.01960784,  0.02352941],\n",
       "         [ 0.01176471,  0.01176471,  0.01176471, ...,  0.01960784,\n",
       "           0.01960784,  0.01960784],\n",
       "         [ 0.01176471,  0.01176471,  0.01176471, ...,  0.02352941,\n",
       "           0.01960784,  0.01568628]],\n",
       "\n",
       "        [[ 0.        ,  0.        ,  0.00392157, ...,  0.01176471,\n",
       "           0.01176471,  0.00784314],\n",
       "         [ 0.        ,  0.        ,  0.00392157, ...,  0.01568628,\n",
       "           0.01176471,  0.00392157],\n",
       "         [ 0.        ,  0.        ,  0.00392157, ...,  0.01568628,\n",
       "           0.01176471,  0.00392157],\n",
       "         ..., \n",
       "         [ 0.        ,  0.        ,  0.        , ...,  0.00784314,\n",
       "           0.00784314,  0.01176471],\n",
       "         [ 0.        ,  0.        ,  0.00392157, ...,  0.00784314,\n",
       "           0.00784314,  0.00784314],\n",
       "         [ 0.        ,  0.        ,  0.00392157, ...,  0.01176471,\n",
       "           0.00784314,  0.00392157]],\n",
       "\n",
       "        [[ 0.00784314,  0.00784314,  0.01176471, ...,  0.01960784,\n",
       "           0.01960784,  0.01568628],\n",
       "         [ 0.00784314,  0.00784314,  0.01176471, ...,  0.02352941,\n",
       "           0.01960784,  0.01176471],\n",
       "         [ 0.00784314,  0.00784314,  0.01176471, ...,  0.02352941,\n",
       "           0.01960784,  0.01176471],\n",
       "         ..., \n",
       "         [ 0.00784314,  0.00784314,  0.00784314, ...,  0.01568628,\n",
       "           0.01568628,  0.01568628],\n",
       "         [ 0.00784314,  0.00784314,  0.00784314, ...,  0.01568628,\n",
       "           0.01568628,  0.01568628],\n",
       "         [ 0.00784314,  0.00784314,  0.01176471, ...,  0.01960784,\n",
       "           0.01568628,  0.01176471]]],\n",
       "\n",
       "\n",
       "       [[[ 0.        ,  0.        ,  0.        , ...,  0.        ,\n",
       "           0.        ,  0.        ],\n",
       "         [ 0.        ,  0.        ,  0.        , ...,  0.        ,\n",
       "           0.        ,  0.        ],\n",
       "         [ 0.        ,  0.        ,  0.        , ...,  0.        ,\n",
       "           0.        ,  0.        ],\n",
       "         ..., \n",
       "         [ 0.00392157,  0.00392157,  0.00392157, ...,  0.        ,\n",
       "           0.        ,  0.        ],\n",
       "         [ 0.00392157,  0.00392157,  0.00392157, ...,  0.        ,\n",
       "           0.        ,  0.        ],\n",
       "         [ 0.        ,  0.00392157,  0.00392157, ...,  0.        ,\n",
       "           0.        ,  0.        ]],\n",
       "\n",
       "        [[ 0.        ,  0.        ,  0.        , ...,  0.        ,\n",
       "           0.        ,  0.        ],\n",
       "         [ 0.        ,  0.        ,  0.        , ...,  0.        ,\n",
       "           0.        ,  0.        ],\n",
       "         [ 0.        ,  0.        ,  0.        , ...,  0.        ,\n",
       "           0.        ,  0.        ],\n",
       "         ..., \n",
       "         [ 0.00392157,  0.00392157,  0.00392157, ...,  0.        ,\n",
       "           0.        ,  0.        ],\n",
       "         [ 0.00392157,  0.00392157,  0.00392157, ...,  0.        ,\n",
       "           0.        ,  0.        ],\n",
       "         [ 0.        ,  0.00392157,  0.00392157, ...,  0.        ,\n",
       "           0.        ,  0.        ]],\n",
       "\n",
       "        [[ 0.        ,  0.        ,  0.        , ...,  0.        ,\n",
       "           0.        ,  0.        ],\n",
       "         [ 0.        ,  0.        ,  0.        , ...,  0.        ,\n",
       "           0.        ,  0.        ],\n",
       "         [ 0.        ,  0.        ,  0.        , ...,  0.        ,\n",
       "           0.        ,  0.        ],\n",
       "         ..., \n",
       "         [ 0.00392157,  0.00392157,  0.00392157, ...,  0.        ,\n",
       "           0.        ,  0.        ],\n",
       "         [ 0.00392157,  0.00392157,  0.00392157, ...,  0.        ,\n",
       "           0.        ,  0.        ],\n",
       "         [ 0.        ,  0.00392157,  0.00392157, ...,  0.        ,\n",
       "           0.        ,  0.        ]]]], dtype=float32)"
      ]
     },
     "execution_count": 2,
     "metadata": {},
     "output_type": "execute_result"
    }
   ],
   "source": [
    "train_data"
   ]
  },
  {
   "cell_type": "code",
   "execution_count": 2,
   "metadata": {
    "collapsed": false
   },
   "outputs": [],
   "source": [
    "# convert (3, 64, 64)-> (64, 64, 3)\n",
    "\n",
    "train_data = train_data.transpose((0, 2, 3, 1))\n",
    "test_data = test_data.transpose((0, 2, 3, 1))\n",
    "# avoid memory over flow if the shape is 224 * 224\n",
    "# the fllowing is gonna be memory error... if test_size is large\n",
    "# train_data, _ , train_target, _ = train_test_split(train_data, train_target,test_size=0.8, random_state=17)\n",
    "# train_target = train_target"
   ]
  },
  {
   "cell_type": "code",
   "execution_count": 4,
   "metadata": {
    "collapsed": false
   },
   "outputs": [
    {
     "data": {
      "text/plain": [
       "(8205, 224, 224, 3)"
      ]
     },
     "execution_count": 4,
     "metadata": {},
     "output_type": "execute_result"
    }
   ],
   "source": [
    "# train_data = np.load('train_crop_64.npy')\n",
    "train_data.shape"
   ]
  },
  {
   "cell_type": "code",
   "execution_count": 5,
   "metadata": {
    "collapsed": false
   },
   "outputs": [],
   "source": [
    "tes = pd.DataFrame({'target': train_target})"
   ]
  },
  {
   "cell_type": "code",
   "execution_count": 6,
   "metadata": {
    "collapsed": false
   },
   "outputs": [
    {
     "data": {
      "text/plain": [
       "1    4344\n",
       "2    2426\n",
       "0    1435\n",
       "Name: target, dtype: int64"
      ]
     },
     "execution_count": 6,
     "metadata": {},
     "output_type": "execute_result"
    }
   ],
   "source": [
    "tes['target'].value_counts()"
   ]
  },
  {
   "cell_type": "code",
   "execution_count": null,
   "metadata": {
    "collapsed": false
   },
   "outputs": [],
   "source": []
  },
  {
   "cell_type": "code",
   "execution_count": 7,
   "metadata": {
    "collapsed": false
   },
   "outputs": [
    {
     "data": {
      "text/plain": [
       "(8205,)"
      ]
     },
     "execution_count": 7,
     "metadata": {},
     "output_type": "execute_result"
    }
   ],
   "source": [
    "train_target.shape"
   ]
  },
  {
   "cell_type": "code",
   "execution_count": 8,
   "metadata": {
    "collapsed": false
   },
   "outputs": [
    {
     "name": "stdout",
     "output_type": "stream",
     "text": [
      "_________________________________________________________________\n",
      "Layer (type)                 Output Shape              Param #   \n",
      "=================================================================\n",
      "input_1 (InputLayer)         (None, 224, 224, 3)       0         \n",
      "_________________________________________________________________\n",
      "block1_conv1 (Conv2D)        (None, 224, 224, 64)      1792      \n",
      "_________________________________________________________________\n",
      "block1_conv2 (Conv2D)        (None, 224, 224, 64)      36928     \n",
      "_________________________________________________________________\n",
      "block1_pool (MaxPooling2D)   (None, 112, 112, 64)      0         \n",
      "_________________________________________________________________\n",
      "block2_conv1 (Conv2D)        (None, 112, 112, 128)     73856     \n",
      "_________________________________________________________________\n",
      "block2_conv2 (Conv2D)        (None, 112, 112, 128)     147584    \n",
      "_________________________________________________________________\n",
      "block2_pool (MaxPooling2D)   (None, 56, 56, 128)       0         \n",
      "_________________________________________________________________\n",
      "block3_conv1 (Conv2D)        (None, 56, 56, 256)       295168    \n",
      "_________________________________________________________________\n",
      "block3_conv2 (Conv2D)        (None, 56, 56, 256)       590080    \n",
      "_________________________________________________________________\n",
      "block3_conv3 (Conv2D)        (None, 56, 56, 256)       590080    \n",
      "_________________________________________________________________\n",
      "block3_pool (MaxPooling2D)   (None, 28, 28, 256)       0         \n",
      "_________________________________________________________________\n",
      "block4_conv1 (Conv2D)        (None, 28, 28, 512)       1180160   \n",
      "_________________________________________________________________\n",
      "block4_conv2 (Conv2D)        (None, 28, 28, 512)       2359808   \n",
      "_________________________________________________________________\n",
      "block4_conv3 (Conv2D)        (None, 28, 28, 512)       2359808   \n",
      "_________________________________________________________________\n",
      "block4_pool (MaxPooling2D)   (None, 14, 14, 512)       0         \n",
      "_________________________________________________________________\n",
      "block5_conv1 (Conv2D)        (None, 14, 14, 512)       2359808   \n",
      "_________________________________________________________________\n",
      "block5_conv2 (Conv2D)        (None, 14, 14, 512)       2359808   \n",
      "_________________________________________________________________\n",
      "block5_conv3 (Conv2D)        (None, 14, 14, 512)       2359808   \n",
      "_________________________________________________________________\n",
      "block5_pool (MaxPooling2D)   (None, 7, 7, 512)         0         \n",
      "=================================================================\n",
      "Total params: 14,714,688\n",
      "Trainable params: 14,714,688\n",
      "Non-trainable params: 0\n",
      "_________________________________________________________________\n"
     ]
    }
   ],
   "source": [
    "input_tensor = Input(dtype='float32', shape=(224,224, 3))\n",
    "vgg16_model = VGG16(include_top=False, weights='imagenet', input_tensor=input_tensor, input_shape=(224, 224, 3))\n",
    "vgg16_model.summary()"
   ]
  },
  {
   "cell_type": "code",
   "execution_count": 9,
   "metadata": {
    "collapsed": false
   },
   "outputs": [],
   "source": [
    "top_model = Sequential()\n",
    "top_model.add(Flatten(input_shape=vgg16_model.output_shape[1:]))\n",
    "top_model.add(Dense(256, activation='relu'))\n",
    "top_model.add(Dropout(0.5))\n",
    "#set 3 for three types clf\n",
    "top_model.add(Dense(3, activation='sigmoid'))"
   ]
  },
  {
   "cell_type": "code",
   "execution_count": 10,
   "metadata": {
    "collapsed": false
   },
   "outputs": [
    {
     "name": "stderr",
     "output_type": "stream",
     "text": [
      "/home/ubuntu/anaconda3/lib/python3.5/site-packages/ipykernel/__main__.py:1: UserWarning: Update your `Model` call to the Keras 2 API: `Model(inputs=Tensor(\"in..., outputs=Tensor(\"se...)`\n",
      "  if __name__ == '__main__':\n"
     ]
    }
   ],
   "source": [
    "model = Model(input=vgg16_model.input, output=top_model(vgg16_model.output))"
   ]
  },
  {
   "cell_type": "code",
   "execution_count": 11,
   "metadata": {
    "collapsed": false
   },
   "outputs": [
    {
     "name": "stdout",
     "output_type": "stream",
     "text": [
      "vgg16_model:  <keras.engine.training.Model object at 0x7fd0c5280438>\n",
      "top_model:  <keras.models.Sequential object at 0x7fd0c520fc50>\n",
      "model:  <keras.engine.training.Model object at 0x7fd39e65dac8>\n"
     ]
    }
   ],
   "source": [
    "print('vgg16_model: ', vgg16_model)\n",
    "print('top_model: ', top_model)\n",
    "print('model: ', model)"
   ]
  },
  {
   "cell_type": "code",
   "execution_count": 12,
   "metadata": {
    "collapsed": false
   },
   "outputs": [
    {
     "name": "stdout",
     "output_type": "stream",
     "text": [
      "0 <keras.engine.topology.InputLayer object at 0x7fd39e65dda0>\n",
      "1 <keras.layers.convolutional.Conv2D object at 0x7fd39e65dd68>\n",
      "2 <keras.layers.convolutional.Conv2D object at 0x7fd39e65a0f0>\n",
      "3 <keras.layers.pooling.MaxPooling2D object at 0x7fd0c53a2f28>\n",
      "4 <keras.layers.convolutional.Conv2D object at 0x7fd0c5361f98>\n",
      "5 <keras.layers.convolutional.Conv2D object at 0x7fd0c5370c18>\n",
      "6 <keras.layers.pooling.MaxPooling2D object at 0x7fd0c530acf8>\n",
      "7 <keras.layers.convolutional.Conv2D object at 0x7fd0c5318828>\n",
      "8 <keras.layers.convolutional.Conv2D object at 0x7fd0c5325eb8>\n",
      "9 <keras.layers.convolutional.Conv2D object at 0x7fd0c5333588>\n",
      "10 <keras.layers.pooling.MaxPooling2D object at 0x7fd0c52cfc18>\n",
      "11 <keras.layers.convolutional.Conv2D object at 0x7fd0c52eb198>\n",
      "12 <keras.layers.convolutional.Conv2D object at 0x7fd0c52fa828>\n",
      "13 <keras.layers.convolutional.Conv2D object at 0x7fd0c52869e8>\n",
      "14 <keras.layers.pooling.MaxPooling2D object at 0x7fd0c52a0f98>\n",
      "15 <keras.layers.convolutional.Conv2D object at 0x7fd0c52adeb8>\n",
      "16 <keras.layers.convolutional.Conv2D object at 0x7fd0c52bcbe0>\n",
      "17 <keras.layers.convolutional.Conv2D object at 0x7fd0c5256c18>\n",
      "18 <keras.layers.pooling.MaxPooling2D object at 0x7fd0c5263518>\n",
      "19 <keras.models.Sequential object at 0x7fd0c520fc50>\n"
     ]
    }
   ],
   "source": [
    "#display layers\n",
    "for i in range(len(model.layers)):\n",
    "    print(i, model.layers[i])"
   ]
  },
  {
   "cell_type": "code",
   "execution_count": 13,
   "metadata": {
    "collapsed": true
   },
   "outputs": [],
   "source": [
    "#freeze layers\n",
    "for layer in model.layers[:15]:\n",
    "    layer.trainable = False"
   ]
  },
  {
   "cell_type": "code",
   "execution_count": 14,
   "metadata": {
    "collapsed": false
   },
   "outputs": [],
   "source": [
    "model.compile(loss='sparse_categorical_crossentropy', optimizer=optimizers.SGD(lr=0.0001, momentum=0.9), metrics=['accuracy'])"
   ]
  },
  {
   "cell_type": "code",
   "execution_count": null,
   "metadata": {
    "collapsed": true
   },
   "outputs": [],
   "source": []
  },
  {
   "cell_type": "code",
   "execution_count": 5,
   "metadata": {
    "collapsed": false
   },
   "outputs": [],
   "source": [
    "# datagen = ImageDataGenerator(rotation_range=0.3, zoom_range=0.3)\n",
    "datagen = ImageDataGenerator()\n",
    "datagen.fit(train_data)\n",
    "\n",
    "x_train, x_val_train, y_train, y_val_train = train_test_split(train_data, train_target,test_size=0.4, random_state=17)"
   ]
  },
  {
   "cell_type": "code",
   "execution_count": 16,
   "metadata": {
    "collapsed": false
   },
   "outputs": [],
   "source": [
    "# x_train = preprocess_input(x_train)"
   ]
  },
  {
   "cell_type": "code",
   "execution_count": 17,
   "metadata": {
    "collapsed": false
   },
   "outputs": [],
   "source": [
    "# x_train *= 255"
   ]
  },
  {
   "cell_type": "code",
   "execution_count": 18,
   "metadata": {
    "collapsed": false,
    "scrolled": true
   },
   "outputs": [],
   "source": [
    "# x_train"
   ]
  },
  {
   "cell_type": "code",
   "execution_count": 19,
   "metadata": {
    "collapsed": false,
    "scrolled": true
   },
   "outputs": [
    {
     "data": {
      "text/plain": [
       "(3282,)"
      ]
     },
     "execution_count": 19,
     "metadata": {},
     "output_type": "execute_result"
    }
   ],
   "source": [
    "y_val_train.shape"
   ]
  },
  {
   "cell_type": "code",
   "execution_count": null,
   "metadata": {
    "collapsed": true
   },
   "outputs": [],
   "source": []
  },
  {
   "cell_type": "code",
   "execution_count": 20,
   "metadata": {
    "collapsed": false,
    "scrolled": false
   },
   "outputs": [
    {
     "name": "stderr",
     "output_type": "stream",
     "text": [
      "/home/ubuntu/anaconda3/lib/python3.5/site-packages/ipykernel/__main__.py:4: UserWarning: Update your `fit_generator` call to the Keras 2 API: `fit_generator(<keras.pre..., verbose=1, epochs=30, steps_per_epoch=328, validation_data=(array([[[...)`\n"
     ]
    },
    {
     "name": "stdout",
     "output_type": "stream",
     "text": [
      "Epoch 1/30\n",
      "328/328 [==============================] - 1063s - loss: 1.0162 - acc: 0.5203 - val_loss: 1.0067 - val_acc: 0.5393\n",
      "Epoch 2/30\n",
      "328/328 [==============================] - 1063s - loss: 0.9970 - acc: 0.5242 - val_loss: 0.9656 - val_acc: 0.5393\n",
      "Epoch 3/30\n",
      "328/328 [==============================] - 1062s - loss: 0.9681 - acc: 0.5252 - val_loss: 0.9527 - val_acc: 0.5524\n",
      "Epoch 4/30\n",
      "328/328 [==============================] - 1061s - loss: 0.9541 - acc: 0.5285 - val_loss: 0.9444 - val_acc: 0.5536\n",
      "Epoch 5/30\n",
      "328/328 [==============================] - 1064s - loss: 0.9324 - acc: 0.5388 - val_loss: 0.9246 - val_acc: 0.5576\n",
      "Epoch 6/30\n",
      "328/328 [==============================] - 1063s - loss: 0.9202 - acc: 0.5402 - val_loss: 0.9169 - val_acc: 0.5634\n",
      "Epoch 7/30\n",
      "328/328 [==============================] - 1063s - loss: 0.8967 - acc: 0.5500 - val_loss: 0.9143 - val_acc: 0.5615\n",
      "Epoch 8/30\n",
      "328/328 [==============================] - 1062s - loss: 0.8839 - acc: 0.5533 - val_loss: 0.8985 - val_acc: 0.5649\n",
      "Epoch 9/30\n",
      "328/328 [==============================] - 1065s - loss: 0.8551 - acc: 0.5870 - val_loss: 0.8927 - val_acc: 0.5762\n",
      "Epoch 10/30\n",
      "328/328 [==============================] - 1063s - loss: 0.8494 - acc: 0.5884 - val_loss: 0.8841 - val_acc: 0.5814\n",
      "Epoch 11/30\n",
      "328/328 [==============================] - 1062s - loss: 0.8286 - acc: 0.5953 - val_loss: 0.8722 - val_acc: 0.5945\n",
      "Epoch 12/30\n",
      "328/328 [==============================] - 1063s - loss: 0.8023 - acc: 0.6152 - val_loss: 0.8750 - val_acc: 0.5951\n",
      "Epoch 13/30\n",
      "328/328 [==============================] - 1062s - loss: 0.7791 - acc: 0.6307 - val_loss: 0.8583 - val_acc: 0.6002\n",
      "Epoch 14/30\n",
      "328/328 [==============================] - 1068s - loss: 0.7648 - acc: 0.6376 - val_loss: 0.8508 - val_acc: 0.6009\n",
      "Epoch 15/30\n",
      "328/328 [==============================] - 1064s - loss: 0.7313 - acc: 0.6563 - val_loss: 0.8468 - val_acc: 0.6005\n",
      "Epoch 16/30\n",
      "328/328 [==============================] - 1064s - loss: 0.6916 - acc: 0.6882 - val_loss: 0.8403 - val_acc: 0.6127\n",
      "Epoch 17/30\n",
      "328/328 [==============================] - 1060s - loss: 0.6606 - acc: 0.7004 - val_loss: 0.8478 - val_acc: 0.6115\n",
      "Epoch 18/30\n",
      "328/328 [==============================] - 1062s - loss: 0.6399 - acc: 0.7177 - val_loss: 0.8534 - val_acc: 0.6240\n",
      "Epoch 19/30\n",
      "328/328 [==============================] - 1061s - loss: 0.6018 - acc: 0.7380 - val_loss: 0.8530 - val_acc: 0.6289\n",
      "Epoch 20/30\n",
      "328/328 [==============================] - 1061s - loss: 0.5653 - acc: 0.7620 - val_loss: 0.8332 - val_acc: 0.6332\n",
      "Epoch 21/30\n",
      "328/328 [==============================] - 1060s - loss: 0.5276 - acc: 0.7730 - val_loss: 0.8465 - val_acc: 0.6383\n",
      "Epoch 22/30\n",
      "219/328 [===================>..........] - ETA: 224s - loss: 0.4830 - acc: 0.8140"
     ]
    },
    {
     "ename": "KeyboardInterrupt",
     "evalue": "",
     "output_type": "error",
     "traceback": [
      "\u001b[1;31m\u001b[0m",
      "\u001b[1;31mKeyboardInterrupt\u001b[0mTraceback (most recent call last)",
      "\u001b[1;32m<ipython-input-20-6eb7abc63f08>\u001b[0m in \u001b[0;36m<module>\u001b[1;34m()\u001b[0m\n\u001b[0;32m      2\u001b[0m \u001b[1;31m# history = model.fit_generator(datagen.flow(train_data, train_target, batch_size=15, shuffle=True),\u001b[0m\u001b[1;33m\u001b[0m\u001b[1;33m\u001b[0m\u001b[0m\n\u001b[0;32m      3\u001b[0m                     \u001b[0mnb_epoch\u001b[0m\u001b[1;33m=\u001b[0m\u001b[1;36m30\u001b[0m\u001b[1;33m,\u001b[0m  \u001b[0msamples_per_epoch\u001b[0m\u001b[1;33m=\u001b[0m\u001b[0mlen\u001b[0m\u001b[1;33m(\u001b[0m\u001b[0mx_train\u001b[0m\u001b[1;33m)\u001b[0m\u001b[1;33m,\u001b[0m \u001b[0mverbose\u001b[0m\u001b[1;33m=\u001b[0m\u001b[1;36m1\u001b[0m\u001b[1;33m,\u001b[0m\u001b[1;33m\u001b[0m\u001b[0m\n\u001b[1;32m----> 4\u001b[1;33m                     validation_data=(x_val_train, y_val_train))\n\u001b[0m",
      "\u001b[1;32m/home/ubuntu/anaconda3/lib/python3.5/site-packages/keras/legacy/interfaces.py\u001b[0m in \u001b[0;36mwrapper\u001b[1;34m(*args, **kwargs)\u001b[0m\n\u001b[0;32m     86\u001b[0m                 warnings.warn('Update your `' + object_name +\n\u001b[0;32m     87\u001b[0m                               '` call to the Keras 2 API: ' + signature, stacklevel=2)\n\u001b[1;32m---> 88\u001b[1;33m             \u001b[1;32mreturn\u001b[0m \u001b[0mfunc\u001b[0m\u001b[1;33m(\u001b[0m\u001b[1;33m*\u001b[0m\u001b[0margs\u001b[0m\u001b[1;33m,\u001b[0m \u001b[1;33m**\u001b[0m\u001b[0mkwargs\u001b[0m\u001b[1;33m)\u001b[0m\u001b[1;33m\u001b[0m\u001b[0m\n\u001b[0m\u001b[0;32m     89\u001b[0m         \u001b[0mwrapper\u001b[0m\u001b[1;33m.\u001b[0m\u001b[0m_legacy_support_signature\u001b[0m \u001b[1;33m=\u001b[0m \u001b[0minspect\u001b[0m\u001b[1;33m.\u001b[0m\u001b[0mgetargspec\u001b[0m\u001b[1;33m(\u001b[0m\u001b[0mfunc\u001b[0m\u001b[1;33m)\u001b[0m\u001b[1;33m\u001b[0m\u001b[0m\n\u001b[0;32m     90\u001b[0m         \u001b[1;32mreturn\u001b[0m \u001b[0mwrapper\u001b[0m\u001b[1;33m\u001b[0m\u001b[0m\n",
      "\u001b[1;32m/home/ubuntu/anaconda3/lib/python3.5/site-packages/keras/engine/training.py\u001b[0m in \u001b[0;36mfit_generator\u001b[1;34m(self, generator, steps_per_epoch, epochs, verbose, callbacks, validation_data, validation_steps, class_weight, max_q_size, workers, pickle_safe, initial_epoch)\u001b[0m\n\u001b[0;32m   1875\u001b[0m                     outs = self.train_on_batch(x, y,\n\u001b[0;32m   1876\u001b[0m                                                \u001b[0msample_weight\u001b[0m\u001b[1;33m=\u001b[0m\u001b[0msample_weight\u001b[0m\u001b[1;33m,\u001b[0m\u001b[1;33m\u001b[0m\u001b[0m\n\u001b[1;32m-> 1877\u001b[1;33m                                                class_weight=class_weight)\n\u001b[0m\u001b[0;32m   1878\u001b[0m \u001b[1;33m\u001b[0m\u001b[0m\n\u001b[0;32m   1879\u001b[0m                     \u001b[1;32mif\u001b[0m \u001b[1;32mnot\u001b[0m \u001b[0misinstance\u001b[0m\u001b[1;33m(\u001b[0m\u001b[0mouts\u001b[0m\u001b[1;33m,\u001b[0m \u001b[0mlist\u001b[0m\u001b[1;33m)\u001b[0m\u001b[1;33m:\u001b[0m\u001b[1;33m\u001b[0m\u001b[0m\n",
      "\u001b[1;32m/home/ubuntu/anaconda3/lib/python3.5/site-packages/keras/engine/training.py\u001b[0m in \u001b[0;36mtrain_on_batch\u001b[1;34m(self, x, y, sample_weight, class_weight)\u001b[0m\n\u001b[0;32m   1619\u001b[0m             \u001b[0mins\u001b[0m \u001b[1;33m=\u001b[0m \u001b[0mx\u001b[0m \u001b[1;33m+\u001b[0m \u001b[0my\u001b[0m \u001b[1;33m+\u001b[0m \u001b[0msample_weights\u001b[0m\u001b[1;33m\u001b[0m\u001b[0m\n\u001b[0;32m   1620\u001b[0m         \u001b[0mself\u001b[0m\u001b[1;33m.\u001b[0m\u001b[0m_make_train_function\u001b[0m\u001b[1;33m(\u001b[0m\u001b[1;33m)\u001b[0m\u001b[1;33m\u001b[0m\u001b[0m\n\u001b[1;32m-> 1621\u001b[1;33m         \u001b[0moutputs\u001b[0m \u001b[1;33m=\u001b[0m \u001b[0mself\u001b[0m\u001b[1;33m.\u001b[0m\u001b[0mtrain_function\u001b[0m\u001b[1;33m(\u001b[0m\u001b[0mins\u001b[0m\u001b[1;33m)\u001b[0m\u001b[1;33m\u001b[0m\u001b[0m\n\u001b[0m\u001b[0;32m   1622\u001b[0m         \u001b[1;32mif\u001b[0m \u001b[0mlen\u001b[0m\u001b[1;33m(\u001b[0m\u001b[0moutputs\u001b[0m\u001b[1;33m)\u001b[0m \u001b[1;33m==\u001b[0m \u001b[1;36m1\u001b[0m\u001b[1;33m:\u001b[0m\u001b[1;33m\u001b[0m\u001b[0m\n\u001b[0;32m   1623\u001b[0m             \u001b[1;32mreturn\u001b[0m \u001b[0moutputs\u001b[0m\u001b[1;33m[\u001b[0m\u001b[1;36m0\u001b[0m\u001b[1;33m]\u001b[0m\u001b[1;33m\u001b[0m\u001b[0m\n",
      "\u001b[1;32m/home/ubuntu/anaconda3/lib/python3.5/site-packages/keras/backend/tensorflow_backend.py\u001b[0m in \u001b[0;36m__call__\u001b[1;34m(self, inputs)\u001b[0m\n\u001b[0;32m   2101\u001b[0m         \u001b[0msession\u001b[0m \u001b[1;33m=\u001b[0m \u001b[0mget_session\u001b[0m\u001b[1;33m(\u001b[0m\u001b[1;33m)\u001b[0m\u001b[1;33m\u001b[0m\u001b[0m\n\u001b[0;32m   2102\u001b[0m         updated = session.run(self.outputs + [self.updates_op],\n\u001b[1;32m-> 2103\u001b[1;33m                               feed_dict=feed_dict)\n\u001b[0m\u001b[0;32m   2104\u001b[0m         \u001b[1;32mreturn\u001b[0m \u001b[0mupdated\u001b[0m\u001b[1;33m[\u001b[0m\u001b[1;33m:\u001b[0m\u001b[0mlen\u001b[0m\u001b[1;33m(\u001b[0m\u001b[0mself\u001b[0m\u001b[1;33m.\u001b[0m\u001b[0moutputs\u001b[0m\u001b[1;33m)\u001b[0m\u001b[1;33m]\u001b[0m\u001b[1;33m\u001b[0m\u001b[0m\n\u001b[0;32m   2105\u001b[0m \u001b[1;33m\u001b[0m\u001b[0m\n",
      "\u001b[1;32m/home/ubuntu/anaconda3/lib/python3.5/site-packages/tensorflow/python/client/session.py\u001b[0m in \u001b[0;36mrun\u001b[1;34m(self, fetches, feed_dict, options, run_metadata)\u001b[0m\n\u001b[0;32m    776\u001b[0m     \u001b[1;32mtry\u001b[0m\u001b[1;33m:\u001b[0m\u001b[1;33m\u001b[0m\u001b[0m\n\u001b[0;32m    777\u001b[0m       result = self._run(None, fetches, feed_dict, options_ptr,\n\u001b[1;32m--> 778\u001b[1;33m                          run_metadata_ptr)\n\u001b[0m\u001b[0;32m    779\u001b[0m       \u001b[1;32mif\u001b[0m \u001b[0mrun_metadata\u001b[0m\u001b[1;33m:\u001b[0m\u001b[1;33m\u001b[0m\u001b[0m\n\u001b[0;32m    780\u001b[0m         \u001b[0mproto_data\u001b[0m \u001b[1;33m=\u001b[0m \u001b[0mtf_session\u001b[0m\u001b[1;33m.\u001b[0m\u001b[0mTF_GetBuffer\u001b[0m\u001b[1;33m(\u001b[0m\u001b[0mrun_metadata_ptr\u001b[0m\u001b[1;33m)\u001b[0m\u001b[1;33m\u001b[0m\u001b[0m\n",
      "\u001b[1;32m/home/ubuntu/anaconda3/lib/python3.5/site-packages/tensorflow/python/client/session.py\u001b[0m in \u001b[0;36m_run\u001b[1;34m(self, handle, fetches, feed_dict, options, run_metadata)\u001b[0m\n\u001b[0;32m    980\u001b[0m     \u001b[1;32mif\u001b[0m \u001b[0mfinal_fetches\u001b[0m \u001b[1;32mor\u001b[0m \u001b[0mfinal_targets\u001b[0m\u001b[1;33m:\u001b[0m\u001b[1;33m\u001b[0m\u001b[0m\n\u001b[0;32m    981\u001b[0m       results = self._do_run(handle, final_targets, final_fetches,\n\u001b[1;32m--> 982\u001b[1;33m                              feed_dict_string, options, run_metadata)\n\u001b[0m\u001b[0;32m    983\u001b[0m     \u001b[1;32melse\u001b[0m\u001b[1;33m:\u001b[0m\u001b[1;33m\u001b[0m\u001b[0m\n\u001b[0;32m    984\u001b[0m       \u001b[0mresults\u001b[0m \u001b[1;33m=\u001b[0m \u001b[1;33m[\u001b[0m\u001b[1;33m]\u001b[0m\u001b[1;33m\u001b[0m\u001b[0m\n",
      "\u001b[1;32m/home/ubuntu/anaconda3/lib/python3.5/site-packages/tensorflow/python/client/session.py\u001b[0m in \u001b[0;36m_do_run\u001b[1;34m(self, handle, target_list, fetch_list, feed_dict, options, run_metadata)\u001b[0m\n\u001b[0;32m   1030\u001b[0m     \u001b[1;32mif\u001b[0m \u001b[0mhandle\u001b[0m \u001b[1;32mis\u001b[0m \u001b[1;32mNone\u001b[0m\u001b[1;33m:\u001b[0m\u001b[1;33m\u001b[0m\u001b[0m\n\u001b[0;32m   1031\u001b[0m       return self._do_call(_run_fn, self._session, feed_dict, fetch_list,\n\u001b[1;32m-> 1032\u001b[1;33m                            target_list, options, run_metadata)\n\u001b[0m\u001b[0;32m   1033\u001b[0m     \u001b[1;32melse\u001b[0m\u001b[1;33m:\u001b[0m\u001b[1;33m\u001b[0m\u001b[0m\n\u001b[0;32m   1034\u001b[0m       return self._do_call(_prun_fn, self._session, handle, feed_dict,\n",
      "\u001b[1;32m/home/ubuntu/anaconda3/lib/python3.5/site-packages/tensorflow/python/client/session.py\u001b[0m in \u001b[0;36m_do_call\u001b[1;34m(self, fn, *args)\u001b[0m\n\u001b[0;32m   1037\u001b[0m   \u001b[1;32mdef\u001b[0m \u001b[0m_do_call\u001b[0m\u001b[1;33m(\u001b[0m\u001b[0mself\u001b[0m\u001b[1;33m,\u001b[0m \u001b[0mfn\u001b[0m\u001b[1;33m,\u001b[0m \u001b[1;33m*\u001b[0m\u001b[0margs\u001b[0m\u001b[1;33m)\u001b[0m\u001b[1;33m:\u001b[0m\u001b[1;33m\u001b[0m\u001b[0m\n\u001b[0;32m   1038\u001b[0m     \u001b[1;32mtry\u001b[0m\u001b[1;33m:\u001b[0m\u001b[1;33m\u001b[0m\u001b[0m\n\u001b[1;32m-> 1039\u001b[1;33m       \u001b[1;32mreturn\u001b[0m \u001b[0mfn\u001b[0m\u001b[1;33m(\u001b[0m\u001b[1;33m*\u001b[0m\u001b[0margs\u001b[0m\u001b[1;33m)\u001b[0m\u001b[1;33m\u001b[0m\u001b[0m\n\u001b[0m\u001b[0;32m   1040\u001b[0m     \u001b[1;32mexcept\u001b[0m \u001b[0merrors\u001b[0m\u001b[1;33m.\u001b[0m\u001b[0mOpError\u001b[0m \u001b[1;32mas\u001b[0m \u001b[0me\u001b[0m\u001b[1;33m:\u001b[0m\u001b[1;33m\u001b[0m\u001b[0m\n\u001b[0;32m   1041\u001b[0m       \u001b[0mmessage\u001b[0m \u001b[1;33m=\u001b[0m \u001b[0mcompat\u001b[0m\u001b[1;33m.\u001b[0m\u001b[0mas_text\u001b[0m\u001b[1;33m(\u001b[0m\u001b[0me\u001b[0m\u001b[1;33m.\u001b[0m\u001b[0mmessage\u001b[0m\u001b[1;33m)\u001b[0m\u001b[1;33m\u001b[0m\u001b[0m\n",
      "\u001b[1;32m/home/ubuntu/anaconda3/lib/python3.5/site-packages/tensorflow/python/client/session.py\u001b[0m in \u001b[0;36m_run_fn\u001b[1;34m(session, feed_dict, fetch_list, target_list, options, run_metadata)\u001b[0m\n\u001b[0;32m   1019\u001b[0m         return tf_session.TF_Run(session, options,\n\u001b[0;32m   1020\u001b[0m                                  \u001b[0mfeed_dict\u001b[0m\u001b[1;33m,\u001b[0m \u001b[0mfetch_list\u001b[0m\u001b[1;33m,\u001b[0m \u001b[0mtarget_list\u001b[0m\u001b[1;33m,\u001b[0m\u001b[1;33m\u001b[0m\u001b[0m\n\u001b[1;32m-> 1021\u001b[1;33m                                  status, run_metadata)\n\u001b[0m\u001b[0;32m   1022\u001b[0m \u001b[1;33m\u001b[0m\u001b[0m\n\u001b[0;32m   1023\u001b[0m     \u001b[1;32mdef\u001b[0m \u001b[0m_prun_fn\u001b[0m\u001b[1;33m(\u001b[0m\u001b[0msession\u001b[0m\u001b[1;33m,\u001b[0m \u001b[0mhandle\u001b[0m\u001b[1;33m,\u001b[0m \u001b[0mfeed_dict\u001b[0m\u001b[1;33m,\u001b[0m \u001b[0mfetch_list\u001b[0m\u001b[1;33m)\u001b[0m\u001b[1;33m:\u001b[0m\u001b[1;33m\u001b[0m\u001b[0m\n",
      "\u001b[1;31mKeyboardInterrupt\u001b[0m: "
     ]
    }
   ],
   "source": [
    "history = model.fit_generator(datagen.flow(x_train, y_train, batch_size=15, shuffle=True), \n",
    "# history = model.fit_generator(datagen.flow(train_data, train_target, batch_size=15, shuffle=True), \n",
    "                    nb_epoch=30,  samples_per_epoch=len(x_train), verbose=1,\n",
    "                    validation_data=(x_val_train, y_val_train))"
   ]
  },
  {
   "cell_type": "code",
   "execution_count": 21,
   "metadata": {
    "collapsed": true
   },
   "outputs": [],
   "source": [
    "model.save('vgg16_224_21epoc')"
   ]
  },
  {
   "cell_type": "code",
   "execution_count": null,
   "metadata": {
    "collapsed": false
   },
   "outputs": [],
   "source": [
    "score = model.evaluate(x_val_train, y_val_train)\n",
    "score"
   ]
  },
  {
   "cell_type": "code",
   "execution_count": null,
   "metadata": {
    "collapsed": false
   },
   "outputs": [],
   "source": [
    "plt.plot(history.history['val_loss'])"
   ]
  },
  {
   "cell_type": "code",
   "execution_count": null,
   "metadata": {
    "collapsed": false
   },
   "outputs": [],
   "source": [
    "# test_data = np.load('test_crop_64.npy')\n",
    "# test_id = np.load('test_crop_id_64.npy')\n",
    "# test_data = test_data.transpose((0, 2,3,1))\n",
    "predictions = model.predict(test_data, verbose=0)"
   ]
  },
  {
   "cell_type": "code",
   "execution_count": null,
   "metadata": {
    "collapsed": false
   },
   "outputs": [],
   "source": [
    "predictions"
   ]
  },
  {
   "cell_type": "code",
   "execution_count": null,
   "metadata": {
    "collapsed": true
   },
   "outputs": [],
   "source": [
    "df = pd.DataFrame(predictions, columns=['Type_1', 'Type_2', 'Type_3'])\n",
    "df['image_name'] = test_id\n",
    "df.to_csv('2stg_submission_4.csv', index=False)"
   ]
  },
  {
   "cell_type": "markdown",
   "metadata": {
    "collapsed": true
   },
   "source": [
    "# load model"
   ]
  },
  {
   "cell_type": "code",
   "execution_count": 3,
   "metadata": {
    "collapsed": false
   },
   "outputs": [],
   "source": [
    "from keras.models import load_model\n",
    "model224_21epoch = load_model('vgg16_224_21epoc')"
   ]
  },
  {
   "cell_type": "code",
   "execution_count": 4,
   "metadata": {
    "collapsed": true
   },
   "outputs": [],
   "source": [
    "model224_21epoch.compile(loss='sparse_categorical_crossentropy', optimizer=optimizers.SGD(lr=0.0001, momentum=0.9), metrics=['accuracy'])"
   ]
  },
  {
   "cell_type": "code",
   "execution_count": null,
   "metadata": {
    "collapsed": false
   },
   "outputs": [
    {
     "name": "stderr",
     "output_type": "stream",
     "text": [
      "/home/ubuntu/anaconda3/lib/python3.5/site-packages/ipykernel/__main__.py:3: UserWarning: Update your `fit_generator` call to the Keras 2 API: `fit_generator(<keras.pre..., verbose=1, steps_per_epoch=328, validation_data=(array([[[..., epochs=10)`\n",
      "  app.launch_new_instance()\n"
     ]
    },
    {
     "name": "stdout",
     "output_type": "stream",
     "text": [
      "Epoch 1/10\n",
      " 57/328 [====>.........................] - ETA: 566s - loss: 0.4361 - acc: 0.8257"
     ]
    }
   ],
   "source": [
    "history_2 = model224_21epoch.fit_generator(datagen.flow(x_train, y_train, batch_size=15, shuffle=True), \n",
    "                    nb_epoch=10,  samples_per_epoch=len(x_train), verbose=1, \n",
    "                    validation_data=(x_val_train, y_val_train))"
   ]
  },
  {
   "cell_type": "code",
   "execution_count": null,
   "metadata": {
    "collapsed": true
   },
   "outputs": [],
   "source": [
    "model224_21epoch.save('vgg16_224_31epoc')"
   ]
  },
  {
   "cell_type": "code",
   "execution_count": null,
   "metadata": {
    "collapsed": false,
    "scrolled": true
   },
   "outputs": [],
   "source": [
    "score = model_20epoch.evaluate(x_val_train, y_val_train)\n",
    "score"
   ]
  },
  {
   "cell_type": "code",
   "execution_count": null,
   "metadata": {
    "collapsed": false
   },
   "outputs": [],
   "source": [
    "plt.plot(history_2.history['val_loss'])"
   ]
  },
  {
   "cell_type": "code",
   "execution_count": null,
   "metadata": {
    "collapsed": true
   },
   "outputs": [],
   "source": []
  }
 ],
 "metadata": {
  "anaconda-cloud": {},
  "kernelspec": {
   "display_name": "Python [Root]",
   "language": "python",
   "name": "Python [Root]"
  },
  "language_info": {
   "codemirror_mode": {
    "name": "ipython",
    "version": 3
   },
   "file_extension": ".py",
   "mimetype": "text/x-python",
   "name": "python",
   "nbconvert_exporter": "python",
   "pygments_lexer": "ipython3",
   "version": "3.5.2"
  }
 },
 "nbformat": 4,
 "nbformat_minor": 2
}
