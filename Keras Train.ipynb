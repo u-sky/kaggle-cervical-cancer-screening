{
 "cells": [
  {
   "cell_type": "code",
   "execution_count": 3,
   "metadata": {
    "collapsed": false
   },
   "outputs": [],
   "source": [
    "import numpy as np\n",
    "import pandas as pd\n",
    "import matplotlib.pyplot as plt\n",
    "import seaborn as sns\n",
    "import cv2\n",
    "from skimage.io import imread, imshow\n",
    "%matplotlib inline"
   ]
  },
  {
   "cell_type": "code",
   "execution_count": 4,
   "metadata": {
    "collapsed": false
   },
   "outputs": [
    {
     "name": "stderr",
     "output_type": "stream",
     "text": [
      "Using TensorFlow backend.\n"
     ]
    }
   ],
   "source": [
    "from keras.models import Sequential\n",
    "from keras.layers import Dense, Dropout, Activation, Flatten\n",
    "from keras.layers import Convolution2D, MaxPooling2D\n",
    "from keras.utils import np_utils"
   ]
  },
  {
   "cell_type": "code",
   "execution_count": 5,
   "metadata": {
    "collapsed": false
   },
   "outputs": [
    {
     "name": "stdout",
     "output_type": "stream",
     "text": [
      "Type_1\n",
      "Type_2\n",
      "Type_3\n",
      "\n"
     ]
    }
   ],
   "source": [
    "from subprocess import check_output\n",
    "print(check_output(['ls', './data/train']).decode('utf8'))"
   ]
  },
  {
   "cell_type": "markdown",
   "metadata": {},
   "source": [
    "# retrieve all images"
   ]
  },
  {
   "cell_type": "code",
   "execution_count": 6,
   "metadata": {
    "collapsed": true
   },
   "outputs": [],
   "source": [
    "from glob import glob\n",
    "basepath = './data/train/'\n",
    "\n",
    "all_cervix_images = []\n",
    "for path in sorted(glob(basepath + '*')):\n",
    "    cervix_type = path.split('/')[-1]\n",
    "    cervix_images = glob(basepath + cervix_type + '/*')\n",
    "    all_cervix_images += cervix_images\n",
    "\n",
    "# generate dataframe [path, type]\n",
    "all_cervix_images = pd.DataFrame({'path': all_cervix_images})\n",
    "all_cervix_images['type'] = all_cervix_images['path'].apply(lambda path : path.split('/')[-2])"
   ]
  },
  {
   "cell_type": "code",
   "execution_count": 7,
   "metadata": {
    "collapsed": false
   },
   "outputs": [],
   "source": [
    "def get_images_and_types(df):\n",
    "    '''\n",
    "    df[path, type] -> all_images, all_image_types\n",
    "    '''\n",
    "    all_images = []\n",
    "    all_image_types = []\n",
    "    for t in df['type'].unique():\n",
    "        sample_cnt = 0\n",
    "        for _, row in df[df['type'] == t].iterrows():\n",
    "            try:\n",
    "                img = imread(row.path)\n",
    "                all_images.append(img)\n",
    "                all_image_types.append(row.type)\n",
    "                sample_cnt += 1\n",
    "            except:\n",
    "                print('image read failed for {}'.format(row.path))\n",
    "            if sample_cnt > 100:\n",
    "                break\n",
    "    return all_images, all_image_types\n",
    "        "
   ]
  },
  {
   "cell_type": "code",
   "execution_count": 8,
   "metadata": {
    "collapsed": false
   },
   "outputs": [
    {
     "name": "stderr",
     "output_type": "stream",
     "text": [
      "/home/ubuntu/anaconda3/lib/python3.5/site-packages/PIL/TiffImagePlugin.py:692: UserWarning: Possibly corrupt EXIF data.  Expecting to read 524288 bytes but only got 0. Skipping tag 3\n",
      "  \"Skipping tag %s\" % (size, len(data), tag))\n",
      "/home/ubuntu/anaconda3/lib/python3.5/site-packages/PIL/TiffImagePlugin.py:692: UserWarning: Possibly corrupt EXIF data.  Expecting to read 393216 bytes but only got 0. Skipping tag 3\n",
      "  \"Skipping tag %s\" % (size, len(data), tag))\n",
      "/home/ubuntu/anaconda3/lib/python3.5/site-packages/PIL/TiffImagePlugin.py:692: UserWarning: Possibly corrupt EXIF data.  Expecting to read 33554432 bytes but only got 0. Skipping tag 4\n",
      "  \"Skipping tag %s\" % (size, len(data), tag))\n",
      "/home/ubuntu/anaconda3/lib/python3.5/site-packages/PIL/TiffImagePlugin.py:692: UserWarning: Possibly corrupt EXIF data.  Expecting to read 25165824 bytes but only got 0. Skipping tag 4\n",
      "  \"Skipping tag %s\" % (size, len(data), tag))\n",
      "/home/ubuntu/anaconda3/lib/python3.5/site-packages/PIL/TiffImagePlugin.py:692: UserWarning: Possibly corrupt EXIF data.  Expecting to read 131072 bytes but only got 0. Skipping tag 3\n",
      "  \"Skipping tag %s\" % (size, len(data), tag))\n",
      "/home/ubuntu/anaconda3/lib/python3.5/site-packages/PIL/TiffImagePlugin.py:692: UserWarning: Possibly corrupt EXIF data.  Expecting to read 204865536 bytes but only got 0. Skipping tag 5\n",
      "  \"Skipping tag %s\" % (size, len(data), tag))\n",
      "/home/ubuntu/anaconda3/lib/python3.5/site-packages/PIL/TiffImagePlugin.py:692: UserWarning: Possibly corrupt EXIF data.  Expecting to read 205389824 bytes but only got 0. Skipping tag 5\n",
      "  \"Skipping tag %s\" % (size, len(data), tag))\n",
      "/home/ubuntu/anaconda3/lib/python3.5/site-packages/PIL/TiffImagePlugin.py:692: UserWarning: Possibly corrupt EXIF data.  Expecting to read 490602496 bytes but only got 0. Skipping tag 4\n",
      "  \"Skipping tag %s\" % (size, len(data), tag))\n",
      "/home/ubuntu/anaconda3/lib/python3.5/site-packages/PIL/TiffImagePlugin.py:692: UserWarning: Possibly corrupt EXIF data.  Expecting to read 205914112 bytes but only got 10628. Skipping tag 4\n",
      "  \"Skipping tag %s\" % (size, len(data), tag))\n",
      "/home/ubuntu/anaconda3/lib/python3.5/site-packages/PIL/TiffImagePlugin.py:692: UserWarning: Possibly corrupt EXIF data.  Expecting to read 3640590336 bytes but only got 0. Skipping tag 0\n",
      "  \"Skipping tag %s\" % (size, len(data), tag))\n",
      "/home/ubuntu/anaconda3/lib/python3.5/site-packages/PIL/TiffImagePlugin.py:692: UserWarning: Possibly corrupt EXIF data.  Expecting to read 99877888 bytes but only got 0. Skipping tag 1029\n",
      "  \"Skipping tag %s\" % (size, len(data), tag))\n",
      "/home/ubuntu/anaconda3/lib/python3.5/site-packages/PIL/TiffImagePlugin.py:692: UserWarning: Possibly corrupt EXIF data.  Expecting to read 537722880 bytes but only got 0. Skipping tag 4\n",
      "  \"Skipping tag %s\" % (size, len(data), tag))\n",
      "/home/ubuntu/anaconda3/lib/python3.5/site-packages/PIL/TiffImagePlugin.py:692: UserWarning: Possibly corrupt EXIF data.  Expecting to read 205914112 bytes but only got 11347. Skipping tag 4\n",
      "  \"Skipping tag %s\" % (size, len(data), tag))\n",
      "/home/ubuntu/anaconda3/lib/python3.5/site-packages/PIL/TiffImagePlugin.py:692: UserWarning: Possibly corrupt EXIF data.  Expecting to read 665649152 bytes but only got 0. Skipping tag 4\n",
      "  \"Skipping tag %s\" % (size, len(data), tag))\n",
      "/home/ubuntu/anaconda3/lib/python3.5/site-packages/PIL/TiffImagePlugin.py:692: UserWarning: Possibly corrupt EXIF data.  Expecting to read 205914112 bytes but only got 13299. Skipping tag 4\n",
      "  \"Skipping tag %s\" % (size, len(data), tag))\n",
      "/home/ubuntu/anaconda3/lib/python3.5/site-packages/PIL/TiffImagePlugin.py:692: UserWarning: Possibly corrupt EXIF data.  Expecting to read 512098304 bytes but only got 0. Skipping tag 4\n",
      "  \"Skipping tag %s\" % (size, len(data), tag))\n",
      "/home/ubuntu/anaconda3/lib/python3.5/site-packages/PIL/TiffImagePlugin.py:692: UserWarning: Possibly corrupt EXIF data.  Expecting to read 205914112 bytes but only got 10956. Skipping tag 4\n",
      "  \"Skipping tag %s\" % (size, len(data), tag))\n",
      "/home/ubuntu/anaconda3/lib/python3.5/site-packages/PIL/TiffImagePlugin.py:692: UserWarning: Possibly corrupt EXIF data.  Expecting to read 5613949592 bytes but only got 0. Skipping tag 19083\n",
      "  \"Skipping tag %s\" % (size, len(data), tag))\n",
      "/home/ubuntu/anaconda3/lib/python3.5/site-packages/PIL/TiffImagePlugin.py:692: UserWarning: Possibly corrupt EXIF data.  Expecting to read 530382848 bytes but only got 0. Skipping tag 4\n",
      "  \"Skipping tag %s\" % (size, len(data), tag))\n",
      "/home/ubuntu/anaconda3/lib/python3.5/site-packages/PIL/TiffImagePlugin.py:692: UserWarning: Possibly corrupt EXIF data.  Expecting to read 205914112 bytes but only got 11235. Skipping tag 4\n",
      "  \"Skipping tag %s\" % (size, len(data), tag))\n",
      "/home/ubuntu/anaconda3/lib/python3.5/site-packages/PIL/TiffImagePlugin.py:692: UserWarning: Possibly corrupt EXIF data.  Expecting to read 217972736 bytes but only got 0. Skipping tag 5\n",
      "  \"Skipping tag %s\" % (size, len(data), tag))\n",
      "/home/ubuntu/anaconda3/lib/python3.5/site-packages/PIL/TiffImagePlugin.py:692: UserWarning: Possibly corrupt EXIF data.  Expecting to read 218497024 bytes but only got 0. Skipping tag 5\n",
      "  \"Skipping tag %s\" % (size, len(data), tag))\n",
      "/home/ubuntu/anaconda3/lib/python3.5/site-packages/PIL/TiffImagePlugin.py:692: UserWarning: Possibly corrupt EXIF data.  Expecting to read 572391424 bytes but only got 0. Skipping tag 4\n",
      "  \"Skipping tag %s\" % (size, len(data), tag))\n",
      "/home/ubuntu/anaconda3/lib/python3.5/site-packages/PIL/TiffImagePlugin.py:692: UserWarning: Possibly corrupt EXIF data.  Expecting to read 219021312 bytes but only got 12076. Skipping tag 4\n",
      "  \"Skipping tag %s\" % (size, len(data), tag))\n",
      "/home/ubuntu/anaconda3/lib/python3.5/site-packages/PIL/TiffImagePlugin.py:692: UserWarning: Possibly corrupt EXIF data.  Expecting to read 640024576 bytes but only got 0. Skipping tag 4\n",
      "  \"Skipping tag %s\" % (size, len(data), tag))\n",
      "/home/ubuntu/anaconda3/lib/python3.5/site-packages/PIL/TiffImagePlugin.py:692: UserWarning: Possibly corrupt EXIF data.  Expecting to read 205914112 bytes but only got 12908. Skipping tag 4\n",
      "  \"Skipping tag %s\" % (size, len(data), tag))\n",
      "/home/ubuntu/anaconda3/lib/python3.5/site-packages/PIL/TiffImagePlugin.py:692: UserWarning: Possibly corrupt EXIF data.  Expecting to read 639696896 bytes but only got 0. Skipping tag 4\n",
      "  \"Skipping tag %s\" % (size, len(data), tag))\n",
      "/home/ubuntu/anaconda3/lib/python3.5/site-packages/PIL/TiffImagePlugin.py:692: UserWarning: Possibly corrupt EXIF data.  Expecting to read 205914112 bytes but only got 12903. Skipping tag 4\n",
      "  \"Skipping tag %s\" % (size, len(data), tag))\n"
     ]
    },
    {
     "name": "stdout",
     "output_type": "stream",
     "text": [
      "image read failed for ./data/train/Type_1/1339.jpg\n"
     ]
    },
    {
     "name": "stderr",
     "output_type": "stream",
     "text": [
      "/home/ubuntu/anaconda3/lib/python3.5/site-packages/PIL/TiffImagePlugin.py:692: UserWarning: Possibly corrupt EXIF data.  Expecting to read 692191232 bytes but only got 0. Skipping tag 4\n",
      "  \"Skipping tag %s\" % (size, len(data), tag))\n",
      "/home/ubuntu/anaconda3/lib/python3.5/site-packages/PIL/TiffImagePlugin.py:692: UserWarning: Possibly corrupt EXIF data.  Expecting to read 219021312 bytes but only got 13904. Skipping tag 4\n",
      "  \"Skipping tag %s\" % (size, len(data), tag))\n",
      "/home/ubuntu/anaconda3/lib/python3.5/site-packages/PIL/TiffImagePlugin.py:692: UserWarning: Possibly corrupt EXIF data.  Expecting to read 20791909992 bytes but only got 0. Skipping tag 39940\n",
      "  \"Skipping tag %s\" % (size, len(data), tag))\n",
      "/home/ubuntu/anaconda3/lib/python3.5/site-packages/PIL/TiffImagePlugin.py:692: UserWarning: Possibly corrupt EXIF data.  Expecting to read 619577344 bytes but only got 0. Skipping tag 4\n",
      "  \"Skipping tag %s\" % (size, len(data), tag))\n",
      "/home/ubuntu/anaconda3/lib/python3.5/site-packages/PIL/TiffImagePlugin.py:692: UserWarning: Possibly corrupt EXIF data.  Expecting to read 205914112 bytes but only got 12596. Skipping tag 4\n",
      "  \"Skipping tag %s\" % (size, len(data), tag))\n",
      "/home/ubuntu/anaconda3/lib/python3.5/site-packages/PIL/TiffImagePlugin.py:692: UserWarning: Possibly corrupt EXIF data.  Expecting to read 481689600 bytes but only got 0. Skipping tag 4\n",
      "  \"Skipping tag %s\" % (size, len(data), tag))\n",
      "/home/ubuntu/anaconda3/lib/python3.5/site-packages/PIL/TiffImagePlugin.py:692: UserWarning: Possibly corrupt EXIF data.  Expecting to read 205914112 bytes but only got 10492. Skipping tag 4\n",
      "  \"Skipping tag %s\" % (size, len(data), tag))\n",
      "/home/ubuntu/anaconda3/lib/python3.5/site-packages/PIL/TiffImagePlugin.py:692: UserWarning: Possibly corrupt EXIF data.  Expecting to read 878444544 bytes but only got 0. Skipping tag 4\n",
      "  \"Skipping tag %s\" % (size, len(data), tag))\n",
      "/home/ubuntu/anaconda3/lib/python3.5/site-packages/PIL/TiffImagePlugin.py:692: UserWarning: Possibly corrupt EXIF data.  Expecting to read 219021312 bytes but only got 16746. Skipping tag 4\n",
      "  \"Skipping tag %s\" % (size, len(data), tag))\n",
      "/home/ubuntu/anaconda3/lib/python3.5/site-packages/PIL/TiffImagePlugin.py:692: UserWarning: Possibly corrupt EXIF data.  Expecting to read 548274176 bytes but only got 0. Skipping tag 4\n",
      "  \"Skipping tag %s\" % (size, len(data), tag))\n",
      "/home/ubuntu/anaconda3/lib/python3.5/site-packages/PIL/TiffImagePlugin.py:692: UserWarning: Possibly corrupt EXIF data.  Expecting to read 205914112 bytes but only got 11508. Skipping tag 4\n",
      "  \"Skipping tag %s\" % (size, len(data), tag))\n",
      "/home/ubuntu/anaconda3/lib/python3.5/site-packages/PIL/TiffImagePlugin.py:692: UserWarning: Possibly corrupt EXIF data.  Expecting to read 6694150584 bytes but only got 0. Skipping tag 19019\n",
      "  \"Skipping tag %s\" % (size, len(data), tag))\n",
      "/home/ubuntu/anaconda3/lib/python3.5/site-packages/PIL/TiffImagePlugin.py:692: UserWarning: Possibly corrupt EXIF data.  Expecting to read 600899584 bytes but only got 0. Skipping tag 4\n",
      "  \"Skipping tag %s\" % (size, len(data), tag))\n",
      "/home/ubuntu/anaconda3/lib/python3.5/site-packages/PIL/TiffImagePlugin.py:692: UserWarning: Possibly corrupt EXIF data.  Expecting to read 205914112 bytes but only got 12311. Skipping tag 4\n",
      "  \"Skipping tag %s\" % (size, len(data), tag))\n",
      "/home/ubuntu/anaconda3/lib/python3.5/site-packages/PIL/TiffImagePlugin.py:692: UserWarning: Possibly corrupt EXIF data.  Expecting to read 204996608 bytes but only got 0. Skipping tag 5\n",
      "  \"Skipping tag %s\" % (size, len(data), tag))\n",
      "/home/ubuntu/anaconda3/lib/python3.5/site-packages/PIL/TiffImagePlugin.py:692: UserWarning: Possibly corrupt EXIF data.  Expecting to read 205520896 bytes but only got 0. Skipping tag 5\n",
      "  \"Skipping tag %s\" % (size, len(data), tag))\n",
      "/home/ubuntu/anaconda3/lib/python3.5/site-packages/PIL/TiffImagePlugin.py:692: UserWarning: Possibly corrupt EXIF data.  Expecting to read 745734144 bytes but only got 0. Skipping tag 4\n",
      "  \"Skipping tag %s\" % (size, len(data), tag))\n",
      "/home/ubuntu/anaconda3/lib/python3.5/site-packages/PIL/TiffImagePlugin.py:692: UserWarning: Possibly corrupt EXIF data.  Expecting to read 206045184 bytes but only got 14523. Skipping tag 4\n",
      "  \"Skipping tag %s\" % (size, len(data), tag))\n",
      "/home/ubuntu/anaconda3/lib/python3.5/site-packages/PIL/TiffImagePlugin.py:692: UserWarning: Possibly corrupt EXIF data.  Expecting to read 567083008 bytes but only got 0. Skipping tag 4\n",
      "  \"Skipping tag %s\" % (size, len(data), tag))\n",
      "/home/ubuntu/anaconda3/lib/python3.5/site-packages/PIL/TiffImagePlugin.py:692: UserWarning: Possibly corrupt EXIF data.  Expecting to read 205914112 bytes but only got 11795. Skipping tag 4\n",
      "  \"Skipping tag %s\" % (size, len(data), tag))\n",
      "/home/ubuntu/anaconda3/lib/python3.5/site-packages/PIL/TiffImagePlugin.py:692: UserWarning: Possibly corrupt EXIF data.  Expecting to read 701890560 bytes but only got 0. Skipping tag 4\n",
      "  \"Skipping tag %s\" % (size, len(data), tag))\n",
      "/home/ubuntu/anaconda3/lib/python3.5/site-packages/PIL/TiffImagePlugin.py:692: UserWarning: Possibly corrupt EXIF data.  Expecting to read 219021312 bytes but only got 14052. Skipping tag 4\n",
      "  \"Skipping tag %s\" % (size, len(data), tag))\n",
      "/home/ubuntu/anaconda3/lib/python3.5/site-packages/PIL/TiffImagePlugin.py:692: UserWarning: Possibly corrupt EXIF data.  Expecting to read 480182272 bytes but only got 0. Skipping tag 4\n",
      "  \"Skipping tag %s\" % (size, len(data), tag))\n",
      "/home/ubuntu/anaconda3/lib/python3.5/site-packages/PIL/TiffImagePlugin.py:692: UserWarning: Possibly corrupt EXIF data.  Expecting to read 206045184 bytes but only got 10471. Skipping tag 4\n",
      "  \"Skipping tag %s\" % (size, len(data), tag))\n",
      "/home/ubuntu/anaconda3/lib/python3.5/site-packages/PIL/TiffImagePlugin.py:692: UserWarning: Possibly corrupt EXIF data.  Expecting to read 631046144 bytes but only got 0. Skipping tag 4\n",
      "  \"Skipping tag %s\" % (size, len(data), tag))\n",
      "/home/ubuntu/anaconda3/lib/python3.5/site-packages/PIL/TiffImagePlugin.py:692: UserWarning: Possibly corrupt EXIF data.  Expecting to read 205914112 bytes but only got 12771. Skipping tag 4\n",
      "  \"Skipping tag %s\" % (size, len(data), tag))\n",
      "/home/ubuntu/anaconda3/lib/python3.5/site-packages/PIL/TiffImagePlugin.py:692: UserWarning: Possibly corrupt EXIF data.  Expecting to read 520880128 bytes but only got 0. Skipping tag 4\n",
      "  \"Skipping tag %s\" % (size, len(data), tag))\n",
      "/home/ubuntu/anaconda3/lib/python3.5/site-packages/PIL/TiffImagePlugin.py:692: UserWarning: Possibly corrupt EXIF data.  Expecting to read 205914112 bytes but only got 11090. Skipping tag 4\n",
      "  \"Skipping tag %s\" % (size, len(data), tag))\n",
      "/home/ubuntu/anaconda3/lib/python3.5/site-packages/PIL/TiffImagePlugin.py:692: UserWarning: Possibly corrupt EXIF data.  Expecting to read 21488365096 bytes but only got 0. Skipping tag 40486\n",
      "  \"Skipping tag %s\" % (size, len(data), tag))\n",
      "/home/ubuntu/anaconda3/lib/python3.5/site-packages/PIL/TiffImagePlugin.py:692: UserWarning: Possibly corrupt EXIF data.  Expecting to read 748421120 bytes but only got 0. Skipping tag 4\n",
      "  \"Skipping tag %s\" % (size, len(data), tag))\n",
      "/home/ubuntu/anaconda3/lib/python3.5/site-packages/PIL/TiffImagePlugin.py:692: UserWarning: Possibly corrupt EXIF data.  Expecting to read 219021312 bytes but only got 14762. Skipping tag 4\n",
      "  \"Skipping tag %s\" % (size, len(data), tag))\n",
      "/home/ubuntu/anaconda3/lib/python3.5/site-packages/PIL/TiffImagePlugin.py:692: UserWarning: Possibly corrupt EXIF data.  Expecting to read 546963456 bytes but only got 0. Skipping tag 4\n",
      "  \"Skipping tag %s\" % (size, len(data), tag))\n",
      "/home/ubuntu/anaconda3/lib/python3.5/site-packages/PIL/TiffImagePlugin.py:692: UserWarning: Possibly corrupt EXIF data.  Expecting to read 205914112 bytes but only got 11488. Skipping tag 4\n",
      "  \"Skipping tag %s\" % (size, len(data), tag))\n",
      "/home/ubuntu/anaconda3/lib/python3.5/site-packages/PIL/TiffImagePlugin.py:692: UserWarning: Possibly corrupt EXIF data.  Expecting to read 425066496 bytes but only got 0. Skipping tag 4\n",
      "  \"Skipping tag %s\" % (size, len(data), tag))\n",
      "/home/ubuntu/anaconda3/lib/python3.5/site-packages/PIL/TiffImagePlugin.py:692: UserWarning: Possibly corrupt EXIF data.  Expecting to read 205914112 bytes but only got 9628. Skipping tag 4\n",
      "  \"Skipping tag %s\" % (size, len(data), tag))\n",
      "/home/ubuntu/anaconda3/lib/python3.5/site-packages/PIL/TiffImagePlugin.py:692: UserWarning: Possibly corrupt EXIF data.  Expecting to read 507248640 bytes but only got 0. Skipping tag 4\n",
      "  \"Skipping tag %s\" % (size, len(data), tag))\n",
      "/home/ubuntu/anaconda3/lib/python3.5/site-packages/PIL/TiffImagePlugin.py:692: UserWarning: Possibly corrupt EXIF data.  Expecting to read 206045184 bytes but only got 10884. Skipping tag 4\n",
      "  \"Skipping tag %s\" % (size, len(data), tag))\n",
      "/home/ubuntu/anaconda3/lib/python3.5/site-packages/PIL/TiffImagePlugin.py:692: UserWarning: Possibly corrupt EXIF data.  Expecting to read 587792384 bytes but only got 0. Skipping tag 4\n",
      "  \"Skipping tag %s\" % (size, len(data), tag))\n",
      "/home/ubuntu/anaconda3/lib/python3.5/site-packages/PIL/TiffImagePlugin.py:692: UserWarning: Possibly corrupt EXIF data.  Expecting to read 219021312 bytes but only got 12311. Skipping tag 4\n",
      "  \"Skipping tag %s\" % (size, len(data), tag))\n",
      "/home/ubuntu/anaconda3/lib/python3.5/site-packages/PIL/TiffImagePlugin.py:692: UserWarning: Possibly corrupt EXIF data.  Expecting to read 570097664 bytes but only got 0. Skipping tag 4\n",
      "  \"Skipping tag %s\" % (size, len(data), tag))\n",
      "/home/ubuntu/anaconda3/lib/python3.5/site-packages/PIL/TiffImagePlugin.py:692: UserWarning: Possibly corrupt EXIF data.  Expecting to read 205914112 bytes but only got 11841. Skipping tag 4\n",
      "  \"Skipping tag %s\" % (size, len(data), tag))\n",
      "/home/ubuntu/anaconda3/lib/python3.5/site-packages/PIL/TiffImagePlugin.py:692: UserWarning: Possibly corrupt EXIF data.  Expecting to read 634126336 bytes but only got 0. Skipping tag 4\n",
      "  \"Skipping tag %s\" % (size, len(data), tag))\n",
      "/home/ubuntu/anaconda3/lib/python3.5/site-packages/PIL/TiffImagePlugin.py:692: UserWarning: Possibly corrupt EXIF data.  Expecting to read 219021312 bytes but only got 13018. Skipping tag 4\n",
      "  \"Skipping tag %s\" % (size, len(data), tag))\n",
      "/home/ubuntu/anaconda3/lib/python3.5/site-packages/PIL/TiffImagePlugin.py:692: UserWarning: Possibly corrupt EXIF data.  Expecting to read 589561856 bytes but only got 0. Skipping tag 4\n",
      "  \"Skipping tag %s\" % (size, len(data), tag))\n",
      "/home/ubuntu/anaconda3/lib/python3.5/site-packages/PIL/TiffImagePlugin.py:692: UserWarning: Possibly corrupt EXIF data.  Expecting to read 219021312 bytes but only got 12338. Skipping tag 4\n",
      "  \"Skipping tag %s\" % (size, len(data), tag))\n",
      "/home/ubuntu/anaconda3/lib/python3.5/site-packages/PIL/TiffImagePlugin.py:692: UserWarning: Possibly corrupt EXIF data.  Expecting to read 531496960 bytes but only got 0. Skipping tag 4\n",
      "  \"Skipping tag %s\" % (size, len(data), tag))\n",
      "/home/ubuntu/anaconda3/lib/python3.5/site-packages/PIL/TiffImagePlugin.py:692: UserWarning: Possibly corrupt EXIF data.  Expecting to read 219021312 bytes but only got 11452. Skipping tag 4\n",
      "  \"Skipping tag %s\" % (size, len(data), tag))\n",
      "/home/ubuntu/anaconda3/lib/python3.5/site-packages/PIL/TiffImagePlugin.py:692: UserWarning: Possibly corrupt EXIF data.  Expecting to read 8939330528 bytes but only got 0. Skipping tag 38038\n",
      "  \"Skipping tag %s\" % (size, len(data), tag))\n",
      "/home/ubuntu/anaconda3/lib/python3.5/site-packages/PIL/TiffImagePlugin.py:692: UserWarning: Possibly corrupt EXIF data.  Expecting to read 661848064 bytes but only got 0. Skipping tag 4\n",
      "  \"Skipping tag %s\" % (size, len(data), tag))\n",
      "/home/ubuntu/anaconda3/lib/python3.5/site-packages/PIL/TiffImagePlugin.py:692: UserWarning: Possibly corrupt EXIF data.  Expecting to read 219021312 bytes but only got 13441. Skipping tag 4\n",
      "  \"Skipping tag %s\" % (size, len(data), tag))\n",
      "/home/ubuntu/anaconda3/lib/python3.5/site-packages/PIL/TiffImagePlugin.py:692: UserWarning: Possibly corrupt EXIF data.  Expecting to read 460455936 bytes but only got 0. Skipping tag 4\n",
      "  \"Skipping tag %s\" % (size, len(data), tag))\n",
      "/home/ubuntu/anaconda3/lib/python3.5/site-packages/PIL/TiffImagePlugin.py:692: UserWarning: Possibly corrupt EXIF data.  Expecting to read 205914112 bytes but only got 10168. Skipping tag 4\n",
      "  \"Skipping tag %s\" % (size, len(data), tag))\n",
      "/home/ubuntu/anaconda3/lib/python3.5/site-packages/PIL/TiffImagePlugin.py:692: UserWarning: Possibly corrupt EXIF data.  Expecting to read 7974292302 bytes but only got 0. Skipping tag 53378\n",
      "  \"Skipping tag %s\" % (size, len(data), tag))\n",
      "/home/ubuntu/anaconda3/lib/python3.5/site-packages/PIL/TiffImagePlugin.py:692: UserWarning: Possibly corrupt EXIF data.  Expecting to read 558235648 bytes but only got 0. Skipping tag 4\n",
      "  \"Skipping tag %s\" % (size, len(data), tag))\n",
      "/home/ubuntu/anaconda3/lib/python3.5/site-packages/PIL/TiffImagePlugin.py:692: UserWarning: Possibly corrupt EXIF data.  Expecting to read 205914112 bytes but only got 11660. Skipping tag 4\n",
      "  \"Skipping tag %s\" % (size, len(data), tag))\n",
      "/home/ubuntu/anaconda3/lib/python3.5/site-packages/PIL/TiffImagePlugin.py:692: UserWarning: Possibly corrupt EXIF data.  Expecting to read 597819392 bytes but only got 0. Skipping tag 4\n",
      "  \"Skipping tag %s\" % (size, len(data), tag))\n",
      "/home/ubuntu/anaconda3/lib/python3.5/site-packages/PIL/TiffImagePlugin.py:692: UserWarning: Possibly corrupt EXIF data.  Expecting to read 205914112 bytes but only got 12264. Skipping tag 4\n",
      "  \"Skipping tag %s\" % (size, len(data), tag))\n",
      "/home/ubuntu/anaconda3/lib/python3.5/site-packages/PIL/TiffImagePlugin.py:692: UserWarning: Possibly corrupt EXIF data.  Expecting to read 651427840 bytes but only got 0. Skipping tag 4\n",
      "  \"Skipping tag %s\" % (size, len(data), tag))\n",
      "/home/ubuntu/anaconda3/lib/python3.5/site-packages/PIL/TiffImagePlugin.py:692: UserWarning: Possibly corrupt EXIF data.  Expecting to read 205914112 bytes but only got 13082. Skipping tag 4\n",
      "  \"Skipping tag %s\" % (size, len(data), tag))\n",
      "/home/ubuntu/anaconda3/lib/python3.5/site-packages/PIL/TiffImagePlugin.py:692: UserWarning: Possibly corrupt EXIF data.  Expecting to read 452067328 bytes but only got 0. Skipping tag 4\n",
      "  \"Skipping tag %s\" % (size, len(data), tag))\n",
      "/home/ubuntu/anaconda3/lib/python3.5/site-packages/PIL/TiffImagePlugin.py:692: UserWarning: Possibly corrupt EXIF data.  Expecting to read 219021312 bytes but only got 10240. Skipping tag 4\n",
      "  \"Skipping tag %s\" % (size, len(data), tag))\n",
      "/home/ubuntu/anaconda3/lib/python3.5/site-packages/PIL/TiffImagePlugin.py:692: UserWarning: Possibly corrupt EXIF data.  Expecting to read 491192320 bytes but only got 0. Skipping tag 4\n",
      "  \"Skipping tag %s\" % (size, len(data), tag))\n",
      "/home/ubuntu/anaconda3/lib/python3.5/site-packages/PIL/TiffImagePlugin.py:692: UserWarning: Possibly corrupt EXIF data.  Expecting to read 205914112 bytes but only got 10637. Skipping tag 4\n",
      "  \"Skipping tag %s\" % (size, len(data), tag))\n",
      "/home/ubuntu/anaconda3/lib/python3.5/site-packages/PIL/TiffImagePlugin.py:692: UserWarning: Possibly corrupt EXIF data.  Expecting to read 494862336 bytes but only got 0. Skipping tag 4\n",
      "  \"Skipping tag %s\" % (size, len(data), tag))\n",
      "/home/ubuntu/anaconda3/lib/python3.5/site-packages/PIL/TiffImagePlugin.py:692: UserWarning: Possibly corrupt EXIF data.  Expecting to read 205914112 bytes but only got 10693. Skipping tag 4\n",
      "  \"Skipping tag %s\" % (size, len(data), tag))\n",
      "/home/ubuntu/anaconda3/lib/python3.5/site-packages/PIL/TiffImagePlugin.py:692: UserWarning: Possibly corrupt EXIF data.  Expecting to read 554041344 bytes but only got 0. Skipping tag 4\n",
      "  \"Skipping tag %s\" % (size, len(data), tag))\n",
      "/home/ubuntu/anaconda3/lib/python3.5/site-packages/PIL/TiffImagePlugin.py:692: UserWarning: Possibly corrupt EXIF data.  Expecting to read 205914112 bytes but only got 11596. Skipping tag 4\n",
      "  \"Skipping tag %s\" % (size, len(data), tag))\n",
      "/home/ubuntu/anaconda3/lib/python3.5/site-packages/PIL/TiffImagePlugin.py:692: UserWarning: Possibly corrupt EXIF data.  Expecting to read 1351410386 bytes but only got 0. Skipping tag 50513\n",
      "  \"Skipping tag %s\" % (size, len(data), tag))\n",
      "/home/ubuntu/anaconda3/lib/python3.5/site-packages/PIL/TiffImagePlugin.py:692: UserWarning: Possibly corrupt EXIF data.  Expecting to read 22727707048 bytes but only got 0. Skipping tag 59491\n",
      "  \"Skipping tag %s\" % (size, len(data), tag))\n"
     ]
    }
   ],
   "source": [
    "all_images, all_image_types = get_images_and_types(all_cervix_images)"
   ]
  },
  {
   "cell_type": "markdown",
   "metadata": {
    "collapsed": false
   },
   "source": [
    "# transform images for CNN inputs"
   ]
  },
  {
   "cell_type": "code",
   "execution_count": 9,
   "metadata": {
    "collapsed": true
   },
   "outputs": [],
   "source": [
    "def transform_image(img, resized_dim, to_gray=False):\n",
    "    '''\n",
    "    Return transformed image for inputs of CNN.\n",
    "    1. resize to (usually )smaller dimension\n",
    "    2. to gray (if the param is True)\n",
    "    3. normalize\n",
    "    4. reshape and norm\n",
    "    '''\n",
    "#    1. resize \n",
    "    resized = cv2.resize(img, (resized_dim, resized_dim), cv2.INTER_LINEAR)\n",
    "\n",
    "#     2. to gray\n",
    "    if to_gray:\n",
    "        resized = cv2.cvtColor(resized, cv2.COLOR_RGB2GRAY).astype('float')\n",
    "    else:\n",
    "        resized = resized.astype('float')\n",
    "#     3. normalize\n",
    "    normalized = cv2.normalize(resized, None, 0.0, 1.0, cv2.NORM_MINMAX)\n",
    "    \n",
    "    return normalized\n",
    "#     4. reshape -> not necessary? for keras inputs\n",
    "#     timg = normalized.reshape(1, np.prod(normalized.shape))\n",
    "    \n",
    "#     return timg/np.linalg.norm(timg)\n",
    "            \n",
    "\n"
   ]
  },
  {
   "cell_type": "code",
   "execution_count": 10,
   "metadata": {
    "collapsed": false
   },
   "outputs": [
    {
     "data": {
      "text/plain": [
       "((303, 100, 100, 3), (303,))"
      ]
     },
     "execution_count": 10,
     "metadata": {},
     "output_type": "execute_result"
    }
   ],
   "source": [
    "# gray_all_images_as_vecs = [transform_image(img, 100) for img in all_images]\n",
    "# gray_imgs_mat = np.array(gray_all_images_as_vecs).squeeze()\n",
    "gray_imgs_mat = [transform_image(img, 100) for img in all_images]\n",
    "gray_imgs_mat = np.array(gray_imgs_mat)\n",
    "gray_image_types = np.array(all_image_types)\n",
    "gray_imgs_mat.shape,gray_image_types.shape\n"
   ]
  },
  {
   "cell_type": "markdown",
   "metadata": {},
   "source": [
    "# split train data and test data"
   ]
  },
  {
   "cell_type": "code",
   "execution_count": 11,
   "metadata": {
    "collapsed": false
   },
   "outputs": [
    {
     "data": {
      "text/plain": [
       "((303, 100, 100, 3), (303,))"
      ]
     },
     "execution_count": 11,
     "metadata": {},
     "output_type": "execute_result"
    }
   ],
   "source": [
    "from sklearn.preprocessing import LabelEncoder\n",
    "from sklearn.preprocessing import Normalizer\n",
    "y = LabelEncoder().fit_transform(all_image_types)\n",
    "X = gray_imgs_mat\n",
    "X.shape, y.shape"
   ]
  },
  {
   "cell_type": "code",
   "execution_count": 12,
   "metadata": {
    "collapsed": false
   },
   "outputs": [
    {
     "data": {
      "text/plain": [
       "((203, 100, 100, 3), (100, 100, 100, 3), (203, 3), (100, 3))"
      ]
     },
     "execution_count": 12,
     "metadata": {},
     "output_type": "execute_result"
    }
   ],
   "source": [
    "from sklearn.model_selection import train_test_split\n",
    "X_train, X_test, y_train, y_test = train_test_split(X, y, test_size=0.33, random_state=42)\n",
    "Y_train = np_utils.to_categorical(y_train, 3)\n",
    "Y_test = np_utils.to_categorical(y_test, 3)\n",
    "X_train.shape, X_test.shape, Y_train.shape, Y_test.shape"
   ]
  },
  {
   "cell_type": "markdown",
   "metadata": {
    "collapsed": false
   },
   "source": [
    "# define CNN"
   ]
  },
  {
   "cell_type": "code",
   "execution_count": 13,
   "metadata": {
    "collapsed": false
   },
   "outputs": [
    {
     "name": "stderr",
     "output_type": "stream",
     "text": [
      "/home/ubuntu/anaconda3/lib/python3.5/site-packages/ipykernel/__main__.py:2: UserWarning: Update your `Conv2D` call to the Keras 2 API: `Conv2D(32, (3, 3), input_shape=(100, 100,..., activation=\"relu\")`\n",
      "  from ipykernel import kernelapp as app\n"
     ]
    }
   ],
   "source": [
    "model = Sequential()\n",
    "model.add(Convolution2D(32, 3, 3, activation='relu', input_shape=(100, 100, 3)))"
   ]
  },
  {
   "cell_type": "code",
   "execution_count": 14,
   "metadata": {
    "collapsed": false
   },
   "outputs": [
    {
     "name": "stderr",
     "output_type": "stream",
     "text": [
      "/home/ubuntu/anaconda3/lib/python3.5/site-packages/ipykernel/__main__.py:1: UserWarning: Update your `Conv2D` call to the Keras 2 API: `Conv2D(32, (3, 3), activation=\"relu\")`\n",
      "  if __name__ == '__main__':\n"
     ]
    }
   ],
   "source": [
    "model.add(Convolution2D(32, 3, 3, activation='relu'))\n",
    "model.add(MaxPooling2D(pool_size=(2,2)))\n",
    "model.add(Dropout(0.25))\n",
    "model.add(Flatten())\n",
    "model.add(Dense(128, activation='relu'))\n",
    "model.add(Dropout(0.5))\n",
    "model.add(Dense(3, activation='softmax'))"
   ]
  },
  {
   "cell_type": "code",
   "execution_count": 15,
   "metadata": {
    "collapsed": true
   },
   "outputs": [],
   "source": [
    "model.compile(loss='categorical_crossentropy', optimizer='adam', metrics=['accuracy'])"
   ]
  },
  {
   "cell_type": "code",
   "execution_count": 16,
   "metadata": {
    "collapsed": false,
    "scrolled": true
   },
   "outputs": [
    {
     "name": "stderr",
     "output_type": "stream",
     "text": [
      "/home/ubuntu/anaconda3/lib/python3.5/site-packages/keras/models.py:834: UserWarning: The `nb_epoch` argument in `fit` has been renamed `epochs`.\n",
      "  warnings.warn('The `nb_epoch` argument in `fit` '\n"
     ]
    },
    {
     "name": "stdout",
     "output_type": "stream",
     "text": [
      "Epoch 1/10\n",
      "203/203 [==============================] - 4s - loss: 2.9459 - acc: 0.3103     \n",
      "Epoch 2/10\n",
      "203/203 [==============================] - 0s - loss: 1.0987 - acc: 0.4236     \n",
      "Epoch 3/10\n",
      "203/203 [==============================] - 0s - loss: 1.0768 - acc: 0.4236     \n",
      "Epoch 4/10\n",
      "203/203 [==============================] - 0s - loss: 1.0080 - acc: 0.5419     \n",
      "Epoch 5/10\n",
      "203/203 [==============================] - 0s - loss: 0.9483 - acc: 0.5665     \n",
      "Epoch 6/10\n",
      "203/203 [==============================] - 0s - loss: 0.9002 - acc: 0.6355     \n",
      "Epoch 7/10\n",
      "203/203 [==============================] - 0s - loss: 0.7996 - acc: 0.7044     \n",
      "Epoch 8/10\n",
      "203/203 [==============================] - 0s - loss: 0.6885 - acc: 0.7438     \n",
      "Epoch 9/10\n",
      "203/203 [==============================] - 0s - loss: 0.5424 - acc: 0.8227     \n",
      "Epoch 10/10\n",
      "203/203 [==============================] - 0s - loss: 0.5058 - acc: 0.8473     \n"
     ]
    },
    {
     "data": {
      "text/plain": [
       "<keras.callbacks.History at 0x7f689413e3c8>"
      ]
     },
     "execution_count": 16,
     "metadata": {},
     "output_type": "execute_result"
    }
   ],
   "source": [
    "model.fit(X_train, Y_train, batch_size=32, nb_epoch=10, verbose=1)"
   ]
  },
  {
   "cell_type": "markdown",
   "metadata": {},
   "source": [
    "# evaluate model on test data"
   ]
  },
  {
   "cell_type": "code",
   "execution_count": 17,
   "metadata": {
    "collapsed": true
   },
   "outputs": [],
   "source": [
    "score = model.evaluate(X_test, Y_test, verbose=0)"
   ]
  },
  {
   "cell_type": "code",
   "execution_count": 18,
   "metadata": {
    "collapsed": false
   },
   "outputs": [
    {
     "data": {
      "text/plain": [
       "[1.1624606800079347, 0.40999999999999998]"
      ]
     },
     "execution_count": 18,
     "metadata": {},
     "output_type": "execute_result"
    }
   ],
   "source": [
    "score"
   ]
  },
  {
   "cell_type": "code",
   "execution_count": 90,
   "metadata": {
    "collapsed": false
   },
   "outputs": [
    {
     "data": {
      "text/plain": [
       "['loss', 'acc']"
      ]
     },
     "execution_count": 90,
     "metadata": {},
     "output_type": "execute_result"
    }
   ],
   "source": [
    "model.metrics_names"
   ]
  },
  {
   "cell_type": "code",
   "execution_count": null,
   "metadata": {
    "collapsed": true
   },
   "outputs": [],
   "source": []
  }
 ],
 "metadata": {
  "anaconda-cloud": {},
  "kernelspec": {
   "display_name": "Python [Root]",
   "language": "python",
   "name": "Python [Root]"
  },
  "language_info": {
   "codemirror_mode": {
    "name": "ipython",
    "version": 3
   },
   "file_extension": ".py",
   "mimetype": "text/x-python",
   "name": "python",
   "nbconvert_exporter": "python",
   "pygments_lexer": "ipython3",
   "version": "3.5.2"
  }
 },
 "nbformat": 4,
 "nbformat_minor": 2
}
